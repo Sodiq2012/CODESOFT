{
 "cells": [
  {
   "cell_type": "markdown",
   "id": "e09a0921",
   "metadata": {},
   "source": [
    "1.0 Project Problem Definition : SALES PREDICTION"
   ]
  },
  {
   "cell_type": "markdown",
   "id": "00b1ef16",
   "metadata": {},
   "source": [
    "2.0 Preparing the Data"
   ]
  },
  {
   "cell_type": "markdown",
   "id": "53e1f032",
   "metadata": {},
   "source": [
    "2.1 Import the Dependency"
   ]
  },
  {
   "cell_type": "code",
   "execution_count": 1,
   "id": "6338a79b",
   "metadata": {},
   "outputs": [],
   "source": [
    "# Importing the needed modules for this project\n",
    "import pandas as pd \n",
    "import numpy as np\n",
    "import seaborn as sns\n",
    "import matplotlib.pyplot as plt\n",
    "%matplotlib inline"
   ]
  },
  {
   "cell_type": "markdown",
   "id": "b8301ea4",
   "metadata": {},
   "source": [
    "2.2 Loading the Data"
   ]
  },
  {
   "cell_type": "code",
   "execution_count": 2,
   "id": "95f42ffa",
   "metadata": {},
   "outputs": [
    {
     "data": {
      "text/html": [
       "<div>\n",
       "<style scoped>\n",
       "    .dataframe tbody tr th:only-of-type {\n",
       "        vertical-align: middle;\n",
       "    }\n",
       "\n",
       "    .dataframe tbody tr th {\n",
       "        vertical-align: top;\n",
       "    }\n",
       "\n",
       "    .dataframe thead th {\n",
       "        text-align: right;\n",
       "    }\n",
       "</style>\n",
       "<table border=\"1\" class=\"dataframe\">\n",
       "  <thead>\n",
       "    <tr style=\"text-align: right;\">\n",
       "      <th></th>\n",
       "      <th>TV</th>\n",
       "      <th>Radio</th>\n",
       "      <th>Newspaper</th>\n",
       "      <th>Sales</th>\n",
       "    </tr>\n",
       "  </thead>\n",
       "  <tbody>\n",
       "    <tr>\n",
       "      <th>0</th>\n",
       "      <td>230.1</td>\n",
       "      <td>37.8</td>\n",
       "      <td>69.2</td>\n",
       "      <td>22.1</td>\n",
       "    </tr>\n",
       "    <tr>\n",
       "      <th>1</th>\n",
       "      <td>44.5</td>\n",
       "      <td>39.3</td>\n",
       "      <td>45.1</td>\n",
       "      <td>10.4</td>\n",
       "    </tr>\n",
       "    <tr>\n",
       "      <th>2</th>\n",
       "      <td>17.2</td>\n",
       "      <td>45.9</td>\n",
       "      <td>69.3</td>\n",
       "      <td>12.0</td>\n",
       "    </tr>\n",
       "    <tr>\n",
       "      <th>3</th>\n",
       "      <td>151.5</td>\n",
       "      <td>41.3</td>\n",
       "      <td>58.5</td>\n",
       "      <td>16.5</td>\n",
       "    </tr>\n",
       "    <tr>\n",
       "      <th>4</th>\n",
       "      <td>180.8</td>\n",
       "      <td>10.8</td>\n",
       "      <td>58.4</td>\n",
       "      <td>17.9</td>\n",
       "    </tr>\n",
       "  </tbody>\n",
       "</table>\n",
       "</div>"
      ],
      "text/plain": [
       "      TV  Radio  Newspaper  Sales\n",
       "0  230.1   37.8       69.2   22.1\n",
       "1   44.5   39.3       45.1   10.4\n",
       "2   17.2   45.9       69.3   12.0\n",
       "3  151.5   41.3       58.5   16.5\n",
       "4  180.8   10.8       58.4   17.9"
      ]
     },
     "execution_count": 2,
     "metadata": {},
     "output_type": "execute_result"
    }
   ],
   "source": [
    "# load the dataset for this project\n",
    "df = pd.read_csv(\"C:/Users/FASANXI SODIQ/codesoft project datasets/advertising.csv \")\n",
    "df.head()"
   ]
  },
  {
   "cell_type": "code",
   "execution_count": 3,
   "id": "99f9bace",
   "metadata": {},
   "outputs": [
    {
     "data": {
      "text/html": [
       "<div>\n",
       "<style scoped>\n",
       "    .dataframe tbody tr th:only-of-type {\n",
       "        vertical-align: middle;\n",
       "    }\n",
       "\n",
       "    .dataframe tbody tr th {\n",
       "        vertical-align: top;\n",
       "    }\n",
       "\n",
       "    .dataframe thead th {\n",
       "        text-align: right;\n",
       "    }\n",
       "</style>\n",
       "<table border=\"1\" class=\"dataframe\">\n",
       "  <thead>\n",
       "    <tr style=\"text-align: right;\">\n",
       "      <th></th>\n",
       "      <th>TV</th>\n",
       "      <th>Radio</th>\n",
       "      <th>Newspaper</th>\n",
       "      <th>Sales</th>\n",
       "    </tr>\n",
       "  </thead>\n",
       "  <tbody>\n",
       "    <tr>\n",
       "      <th>195</th>\n",
       "      <td>38.2</td>\n",
       "      <td>3.7</td>\n",
       "      <td>13.8</td>\n",
       "      <td>7.6</td>\n",
       "    </tr>\n",
       "    <tr>\n",
       "      <th>196</th>\n",
       "      <td>94.2</td>\n",
       "      <td>4.9</td>\n",
       "      <td>8.1</td>\n",
       "      <td>14.0</td>\n",
       "    </tr>\n",
       "    <tr>\n",
       "      <th>197</th>\n",
       "      <td>177.0</td>\n",
       "      <td>9.3</td>\n",
       "      <td>6.4</td>\n",
       "      <td>14.8</td>\n",
       "    </tr>\n",
       "    <tr>\n",
       "      <th>198</th>\n",
       "      <td>283.6</td>\n",
       "      <td>42.0</td>\n",
       "      <td>66.2</td>\n",
       "      <td>25.5</td>\n",
       "    </tr>\n",
       "    <tr>\n",
       "      <th>199</th>\n",
       "      <td>232.1</td>\n",
       "      <td>8.6</td>\n",
       "      <td>8.7</td>\n",
       "      <td>18.4</td>\n",
       "    </tr>\n",
       "  </tbody>\n",
       "</table>\n",
       "</div>"
      ],
      "text/plain": [
       "        TV  Radio  Newspaper  Sales\n",
       "195   38.2    3.7       13.8    7.6\n",
       "196   94.2    4.9        8.1   14.0\n",
       "197  177.0    9.3        6.4   14.8\n",
       "198  283.6   42.0       66.2   25.5\n",
       "199  232.1    8.6        8.7   18.4"
      ]
     },
     "execution_count": 3,
     "metadata": {},
     "output_type": "execute_result"
    }
   ],
   "source": [
    "df.tail()"
   ]
  },
  {
   "cell_type": "markdown",
   "id": "2070026c",
   "metadata": {},
   "source": [
    "2.3 Exploratory Analysis"
   ]
  },
  {
   "cell_type": "code",
   "execution_count": 4,
   "id": "8d3ada02",
   "metadata": {
    "scrolled": true
   },
   "outputs": [
    {
     "name": "stdout",
     "output_type": "stream",
     "text": [
      "<class 'pandas.core.frame.DataFrame'>\n",
      "RangeIndex: 200 entries, 0 to 199\n",
      "Data columns (total 4 columns):\n",
      " #   Column     Non-Null Count  Dtype  \n",
      "---  ------     --------------  -----  \n",
      " 0   TV         200 non-null    float64\n",
      " 1   Radio      200 non-null    float64\n",
      " 2   Newspaper  200 non-null    float64\n",
      " 3   Sales      200 non-null    float64\n",
      "dtypes: float64(4)\n",
      "memory usage: 6.4 KB\n"
     ]
    }
   ],
   "source": [
    "df.info()"
   ]
  },
  {
   "cell_type": "code",
   "execution_count": 5,
   "id": "0e60d1c4",
   "metadata": {},
   "outputs": [
    {
     "data": {
      "text/html": [
       "<div>\n",
       "<style scoped>\n",
       "    .dataframe tbody tr th:only-of-type {\n",
       "        vertical-align: middle;\n",
       "    }\n",
       "\n",
       "    .dataframe tbody tr th {\n",
       "        vertical-align: top;\n",
       "    }\n",
       "\n",
       "    .dataframe thead th {\n",
       "        text-align: right;\n",
       "    }\n",
       "</style>\n",
       "<table border=\"1\" class=\"dataframe\">\n",
       "  <thead>\n",
       "    <tr style=\"text-align: right;\">\n",
       "      <th></th>\n",
       "      <th>count</th>\n",
       "      <th>mean</th>\n",
       "      <th>std</th>\n",
       "      <th>min</th>\n",
       "      <th>25%</th>\n",
       "      <th>50%</th>\n",
       "      <th>75%</th>\n",
       "      <th>max</th>\n",
       "    </tr>\n",
       "  </thead>\n",
       "  <tbody>\n",
       "    <tr>\n",
       "      <th>TV</th>\n",
       "      <td>200.0</td>\n",
       "      <td>147.0425</td>\n",
       "      <td>85.854236</td>\n",
       "      <td>0.7</td>\n",
       "      <td>74.375</td>\n",
       "      <td>149.75</td>\n",
       "      <td>218.825</td>\n",
       "      <td>296.4</td>\n",
       "    </tr>\n",
       "    <tr>\n",
       "      <th>Radio</th>\n",
       "      <td>200.0</td>\n",
       "      <td>23.2640</td>\n",
       "      <td>14.846809</td>\n",
       "      <td>0.0</td>\n",
       "      <td>9.975</td>\n",
       "      <td>22.90</td>\n",
       "      <td>36.525</td>\n",
       "      <td>49.6</td>\n",
       "    </tr>\n",
       "    <tr>\n",
       "      <th>Newspaper</th>\n",
       "      <td>200.0</td>\n",
       "      <td>30.5540</td>\n",
       "      <td>21.778621</td>\n",
       "      <td>0.3</td>\n",
       "      <td>12.750</td>\n",
       "      <td>25.75</td>\n",
       "      <td>45.100</td>\n",
       "      <td>114.0</td>\n",
       "    </tr>\n",
       "    <tr>\n",
       "      <th>Sales</th>\n",
       "      <td>200.0</td>\n",
       "      <td>15.1305</td>\n",
       "      <td>5.283892</td>\n",
       "      <td>1.6</td>\n",
       "      <td>11.000</td>\n",
       "      <td>16.00</td>\n",
       "      <td>19.050</td>\n",
       "      <td>27.0</td>\n",
       "    </tr>\n",
       "  </tbody>\n",
       "</table>\n",
       "</div>"
      ],
      "text/plain": [
       "           count      mean        std  min     25%     50%      75%    max\n",
       "TV         200.0  147.0425  85.854236  0.7  74.375  149.75  218.825  296.4\n",
       "Radio      200.0   23.2640  14.846809  0.0   9.975   22.90   36.525   49.6\n",
       "Newspaper  200.0   30.5540  21.778621  0.3  12.750   25.75   45.100  114.0\n",
       "Sales      200.0   15.1305   5.283892  1.6  11.000   16.00   19.050   27.0"
      ]
     },
     "execution_count": 5,
     "metadata": {},
     "output_type": "execute_result"
    }
   ],
   "source": [
    "df.describe().T"
   ]
  },
  {
   "cell_type": "code",
   "execution_count": 6,
   "id": "2b4c592a",
   "metadata": {},
   "outputs": [
    {
     "data": {
      "text/html": [
       "<div>\n",
       "<style scoped>\n",
       "    .dataframe tbody tr th:only-of-type {\n",
       "        vertical-align: middle;\n",
       "    }\n",
       "\n",
       "    .dataframe tbody tr th {\n",
       "        vertical-align: top;\n",
       "    }\n",
       "\n",
       "    .dataframe thead th {\n",
       "        text-align: right;\n",
       "    }\n",
       "</style>\n",
       "<table border=\"1\" class=\"dataframe\">\n",
       "  <thead>\n",
       "    <tr style=\"text-align: right;\">\n",
       "      <th></th>\n",
       "      <th>TV</th>\n",
       "      <th>Radio</th>\n",
       "      <th>Newspaper</th>\n",
       "      <th>Sales</th>\n",
       "    </tr>\n",
       "  </thead>\n",
       "  <tbody>\n",
       "    <tr>\n",
       "      <th>TV</th>\n",
       "      <td>1.000000</td>\n",
       "      <td>0.054809</td>\n",
       "      <td>0.056648</td>\n",
       "      <td>0.901208</td>\n",
       "    </tr>\n",
       "    <tr>\n",
       "      <th>Radio</th>\n",
       "      <td>0.054809</td>\n",
       "      <td>1.000000</td>\n",
       "      <td>0.354104</td>\n",
       "      <td>0.349631</td>\n",
       "    </tr>\n",
       "    <tr>\n",
       "      <th>Newspaper</th>\n",
       "      <td>0.056648</td>\n",
       "      <td>0.354104</td>\n",
       "      <td>1.000000</td>\n",
       "      <td>0.157960</td>\n",
       "    </tr>\n",
       "    <tr>\n",
       "      <th>Sales</th>\n",
       "      <td>0.901208</td>\n",
       "      <td>0.349631</td>\n",
       "      <td>0.157960</td>\n",
       "      <td>1.000000</td>\n",
       "    </tr>\n",
       "  </tbody>\n",
       "</table>\n",
       "</div>"
      ],
      "text/plain": [
       "                 TV     Radio  Newspaper     Sales\n",
       "TV         1.000000  0.054809   0.056648  0.901208\n",
       "Radio      0.054809  1.000000   0.354104  0.349631\n",
       "Newspaper  0.056648  0.354104   1.000000  0.157960\n",
       "Sales      0.901208  0.349631   0.157960  1.000000"
      ]
     },
     "execution_count": 6,
     "metadata": {},
     "output_type": "execute_result"
    }
   ],
   "source": [
    "df.corr()"
   ]
  },
  {
   "cell_type": "code",
   "execution_count": 7,
   "id": "ac25288a",
   "metadata": {},
   "outputs": [
    {
     "data": {
      "text/plain": [
       "Text(0.5, 1.0, 'Correlation Matrix')"
      ]
     },
     "execution_count": 7,
     "metadata": {},
     "output_type": "execute_result"
    },
    {
     "data": {
      "image/png": "[encoded data removed]",
      "text/plain": [
       "<Figure size 720x432 with 2 Axes>"
      ]
     },
     "metadata": {
      "needs_background": "light"
     },
     "output_type": "display_data"
    }
   ],
   "source": [
    "# plot the correlation matrix.\n",
    "plt.rcParams[\"figure.figsize\"] = (10,6)\n",
    "sns.heatmap(df.corr(), annot=True)\n",
    "plt.title('Correlation Matrix')"
   ]
  },
  {
   "cell_type": "markdown",
   "id": "a70c46f8",
   "metadata": {},
   "source": [
    "2.4 Cleaning the Data"
   ]
  },
  {
   "cell_type": "code",
   "execution_count": 8,
   "id": "ce7bfe8a",
   "metadata": {},
   "outputs": [
    {
     "data": {
      "text/plain": [
       "TV           0\n",
       "Radio        0\n",
       "Newspaper    0\n",
       "Sales        0\n",
       "dtype: int64"
      ]
     },
     "execution_count": 8,
     "metadata": {},
     "output_type": "execute_result"
    }
   ],
   "source": [
    "df.isnull().sum()"
   ]
  },
  {
   "cell_type": "code",
   "execution_count": 9,
   "id": "ee3b1666",
   "metadata": {},
   "outputs": [
    {
     "data": {
      "text/plain": [
       "0"
      ]
     },
     "execution_count": 9,
     "metadata": {},
     "output_type": "execute_result"
    }
   ],
   "source": [
    "df.duplicated().sum()"
   ]
  },
  {
   "cell_type": "markdown",
   "id": "a09e6649",
   "metadata": {},
   "source": [
    "2.5 Features Engineering/Features Transformation"
   ]
  },
  {
   "cell_type": "code",
   "execution_count": 10,
   "id": "72b510da",
   "metadata": {},
   "outputs": [
    {
     "data": {
      "image/png": "[encoded data removed]",
      "text/plain": [
       "<Figure size 720x576 with 4 Axes>"
      ]
     },
     "metadata": {
      "needs_background": "light"
     },
     "output_type": "display_data"
    }
   ],
   "source": [
    "# check for normal distribution of data.\n",
    "df.plot(kind='density', subplots=True, layout=(2,2), sharex=False)\n",
    "plt.gcf().set_size_inches(10,8)\n",
    "plt.show()"
   ]
  },
  {
   "cell_type": "code",
   "execution_count": 11,
   "id": "df45cf95",
   "metadata": {},
   "outputs": [
    {
     "name": "stdout",
     "output_type": "stream",
     "text": [
      "X_train : (180, 3)\n",
      "X_test : (20, 3)\n",
      "Y_train : (180,)\n",
      "Y_test: (20,)\n"
     ]
    }
   ],
   "source": [
    "# split the data into train_set and test_set\n",
    "from sklearn.model_selection import train_test_split, cross_val_score, KFold\n",
    "X = df.drop(['Sales'], axis = 1).values\n",
    "Y = df['Sales'].values\n",
    "x_train, x_test, y_train, y_test = train_test_split(X, Y, test_size = 0.1, random_state=0)\n",
    "print(\"X_train :\", x_train.shape)\n",
    "print(\"X_test :\", x_test.shape)\n",
    "print(\"Y_train :\", y_train.shape)\n",
    "print(\"Y_test:\", y_test.shape)"
   ]
  },
  {
   "cell_type": "markdown",
   "id": "56120be4",
   "metadata": {},
   "source": [
    "2.6 Models Building/Evaluation "
   ]
  },
  {
   "cell_type": "markdown",
   "id": "60137ff9",
   "metadata": {},
   "source": [
    "LINEAR REGRESSOR MODEL:"
   ]
  },
  {
   "cell_type": "code",
   "execution_count": 12,
   "id": "26e890f7",
   "metadata": {},
   "outputs": [
    {
     "name": "stdout",
     "output_type": "stream",
     "text": [
      "Linear Regression MSE : 5.983451754343359\n",
      "Linear Regression RMSE : 2.4461095139718005\n",
      "Linear Regression R2_Score : 0.8139952560607195\n"
     ]
    }
   ],
   "source": [
    "# model building\n",
    "from sklearn.linear_model import LinearRegression\n",
    "linear_reg_model = LinearRegression()\n",
    "linear_reg_model.fit(x_train, y_train)\n",
    "reg_y_pred = linear_reg_model.predict(x_test)\n",
    "reg_ypred = np.round(reg_y_pred , 0)\n",
    "# evaluate the model\n",
    "from sklearn.metrics import r2_score, mean_squared_error, confusion_matrix\n",
    "from numpy import sqrt\n",
    "reg_MSE = mean_squared_error(y_test, reg_y_pred)\n",
    "reg_RMSE = sqrt(reg_MSE)\n",
    "reg_score = r2_score(y_test, reg_y_pred)\n",
    "print(\"Linear Regression MSE :\",reg_MSE)\n",
    "print(\"Linear Regression RMSE :\",reg_RMSE)\n",
    "print(\"Linear Regression R2_Score :\", reg_score) \n",
    "\n"
   ]
  },
  {
   "cell_type": "code",
   "execution_count": 13,
   "id": "1358fa7c",
   "metadata": {},
   "outputs": [
    {
     "data": {
      "image/png": "[encoded data removed]",
      "text/plain": [
       "<Figure size 720x432 with 1 Axes>"
      ]
     },
     "metadata": {
      "needs_background": "light"
     },
     "output_type": "display_data"
    }
   ],
   "source": [
    "fig, ax = plt.subplots()\n",
    "ax.scatter(y_test, reg_y_pred, edgecolors=(0,0,1))\n",
    "ax.plot([y_test.min(), y_test.max()], [y_test.min(), y_test.max()], 'r--',lw=2)\n",
    "ax.set_xlabel(\"Predicted\")\n",
    "ax.set_ylabel(\"Actual\")\n",
    "plt.show()"
   ]
  },
  {
   "cell_type": "code",
   "execution_count": 14,
   "id": "d5c12116",
   "metadata": {},
   "outputs": [
    {
     "data": {
      "text/html": [
       "<div>\n",
       "<style scoped>\n",
       "    .dataframe tbody tr th:only-of-type {\n",
       "        vertical-align: middle;\n",
       "    }\n",
       "\n",
       "    .dataframe tbody tr th {\n",
       "        vertical-align: top;\n",
       "    }\n",
       "\n",
       "    .dataframe thead th {\n",
       "        text-align: right;\n",
       "    }\n",
       "</style>\n",
       "<table border=\"1\" class=\"dataframe\">\n",
       "  <thead>\n",
       "    <tr style=\"text-align: right;\">\n",
       "      <th></th>\n",
       "      <th>predicted sales</th>\n",
       "      <th>actual Sales</th>\n",
       "    </tr>\n",
       "  </thead>\n",
       "  <tbody>\n",
       "    <tr>\n",
       "      <th>0</th>\n",
       "      <td>11.0</td>\n",
       "      <td>11.3</td>\n",
       "    </tr>\n",
       "    <tr>\n",
       "      <th>1</th>\n",
       "      <td>9.0</td>\n",
       "      <td>8.4</td>\n",
       "    </tr>\n",
       "    <tr>\n",
       "      <th>2</th>\n",
       "      <td>9.0</td>\n",
       "      <td>12.0</td>\n",
       "    </tr>\n",
       "    <tr>\n",
       "      <th>3</th>\n",
       "      <td>25.0</td>\n",
       "      <td>25.4</td>\n",
       "    </tr>\n",
       "    <tr>\n",
       "      <th>4</th>\n",
       "      <td>15.0</td>\n",
       "      <td>16.7</td>\n",
       "    </tr>\n",
       "  </tbody>\n",
       "</table>\n",
       "</div>"
      ],
      "text/plain": [
       "   predicted sales  actual Sales\n",
       "0             11.0          11.3\n",
       "1              9.0           8.4\n",
       "2              9.0          12.0\n",
       "3             25.0          25.4\n",
       "4             15.0          16.7"
      ]
     },
     "execution_count": 14,
     "metadata": {},
     "output_type": "execute_result"
    }
   ],
   "source": [
    "# comparing predicted with actual sales\n",
    "col = ['predicted sales', 'actual Sales']\n",
    "result = pd.DataFrame(list(zip(reg_ypred, y_test)), columns=col)\n",
    "result.head()"
   ]
  },
  {
   "cell_type": "code",
   "execution_count": 15,
   "id": "6893a858",
   "metadata": {},
   "outputs": [
    {
     "data": {
      "text/plain": [
       "-100.0"
      ]
     },
     "execution_count": 15,
     "metadata": {},
     "output_type": "execute_result"
    }
   ],
   "source": [
    "correct_prediction = [ ]\n",
    "wrong_prediction = [ ]\n",
    "def percentage_error_calculator(prediction, test):\n",
    "    for i, j in list(zip(prediction, test)) :\n",
    "        if i == j: correct_prediction.append(i)              \n",
    "        else: wrong_prediction.append(i)\n",
    "        total_correct_prediction = len(correct_prediction)\n",
    "        wrong_correct_prediction = len(wrong_prediction)                \n",
    "        percentage_error = round((len(correct_prediction) - len(y_test))/ len(y_test)*100,0)\n",
    "    return percentage_error    \n",
    "percentage_error_calculator(reg_ypred, y_test)"
   ]
  },
  {
   "cell_type": "markdown",
   "id": "8193694f",
   "metadata": {},
   "source": [
    "SUPPORT VECTOR REGRESSOR MODEL:"
   ]
  },
  {
   "cell_type": "code",
   "execution_count": 16,
   "id": "d0dd586e",
   "metadata": {},
   "outputs": [
    {
     "name": "stdout",
     "output_type": "stream",
     "text": [
      "Support Vector Regression MSE : 5.275242603383094\n",
      "Support Vector Regression RMSE : 2.2967896297621806\n",
      "Support Vector Regression R2_Score : 0.8139952560607195\n"
     ]
    }
   ],
   "source": [
    "from sklearn.svm import SVR\n",
    "svr_model = SVR(kernel='rbf')\n",
    "svr_model.fit(x_train, y_train)\n",
    "svm_y_pred = svr_model.predict(x_test)\n",
    "svm_ypred = np.round(svm_y_pred , 0)\n",
    "svm_MSE = mean_squared_error(y_test, svm_y_pred)\n",
    "svm_RMSE = sqrt(svm_MSE)\n",
    "svm_score = r2_score(y_test, svm_y_pred)\n",
    "print(\"Support Vector Regression MSE :\",svm_MSE)\n",
    "print(\"Support Vector Regression RMSE :\",svm_RMSE)\n",
    "print(\"Support Vector Regression R2_Score :\", reg_score)"
   ]
  },
  {
   "cell_type": "code",
   "execution_count": 17,
   "id": "cb695ebb",
   "metadata": {},
   "outputs": [
    {
     "data": {
      "text/html": [
       "<div>\n",
       "<style scoped>\n",
       "    .dataframe tbody tr th:only-of-type {\n",
       "        vertical-align: middle;\n",
       "    }\n",
       "\n",
       "    .dataframe tbody tr th {\n",
       "        vertical-align: top;\n",
       "    }\n",
       "\n",
       "    .dataframe thead th {\n",
       "        text-align: right;\n",
       "    }\n",
       "</style>\n",
       "<table border=\"1\" class=\"dataframe\">\n",
       "  <thead>\n",
       "    <tr style=\"text-align: right;\">\n",
       "      <th></th>\n",
       "      <th>predicted sales</th>\n",
       "      <th>actual Sales</th>\n",
       "    </tr>\n",
       "  </thead>\n",
       "  <tbody>\n",
       "    <tr>\n",
       "      <th>0</th>\n",
       "      <td>11.0</td>\n",
       "      <td>11.3</td>\n",
       "    </tr>\n",
       "    <tr>\n",
       "      <th>1</th>\n",
       "      <td>9.0</td>\n",
       "      <td>8.4</td>\n",
       "    </tr>\n",
       "    <tr>\n",
       "      <th>2</th>\n",
       "      <td>11.0</td>\n",
       "      <td>12.0</td>\n",
       "    </tr>\n",
       "    <tr>\n",
       "      <th>3</th>\n",
       "      <td>21.0</td>\n",
       "      <td>25.4</td>\n",
       "    </tr>\n",
       "    <tr>\n",
       "      <th>4</th>\n",
       "      <td>16.0</td>\n",
       "      <td>16.7</td>\n",
       "    </tr>\n",
       "  </tbody>\n",
       "</table>\n",
       "</div>"
      ],
      "text/plain": [
       "   predicted sales  actual Sales\n",
       "0             11.0          11.3\n",
       "1              9.0           8.4\n",
       "2             11.0          12.0\n",
       "3             21.0          25.4\n",
       "4             16.0          16.7"
      ]
     },
     "execution_count": 17,
     "metadata": {},
     "output_type": "execute_result"
    }
   ],
   "source": [
    "# comparing predicted with actual sales\n",
    "col = ['predicted sales', 'actual Sales']\n",
    "result = pd.DataFrame(list(zip(svm_ypred, y_test)), columns=col)\n",
    "result.head()"
   ]
  },
  {
   "cell_type": "markdown",
   "id": "02bc957a",
   "metadata": {},
   "source": [
    "DECISION TREE REGRESSOR MODEL:"
   ]
  },
  {
   "cell_type": "code",
   "execution_count": 18,
   "id": "b212ca05",
   "metadata": {},
   "outputs": [
    {
     "name": "stdout",
     "output_type": "stream",
     "text": [
      "Decision Tree Regression MSE : 5.339499999999999\n",
      "Decision Tree Regression RMSE : 2.3107358135451137\n",
      "Decision Tree Regression R2_Score : 0.8340134806731166\n"
     ]
    }
   ],
   "source": [
    "from sklearn.tree import DecisionTreeRegressor\n",
    "dtr_model = DecisionTreeRegressor(random_state = 0)\n",
    "dtr_model.fit(x_train, y_train)\n",
    "dtr_y_pred = dtr_model.predict(x_test)\n",
    "dtr_ypred = np.round(dtr_y_pred , 0)\n",
    "dtr_MSE = mean_squared_error(y_test, dtr_y_pred)\n",
    "dtr_RMSE = sqrt(dtr_MSE)\n",
    "dtr_score = r2_score(y_test, dtr_y_pred)\n",
    "print(\"Decision Tree Regression MSE :\",dtr_MSE)\n",
    "print(\"Decision Tree Regression RMSE :\",dtr_RMSE)\n",
    "print(\"Decision Tree Regression R2_Score :\", dtr_score)"
   ]
  },
  {
   "cell_type": "code",
   "execution_count": 19,
   "id": "57518b29",
   "metadata": {},
   "outputs": [
    {
     "data": {
      "text/plain": [
       "-95.0"
      ]
     },
     "execution_count": 19,
     "metadata": {},
     "output_type": "execute_result"
    }
   ],
   "source": [
    "percentage_error_calculator(dtr_ypred, y_test)"
   ]
  },
  {
   "cell_type": "code",
   "execution_count": 20,
   "id": "5d321bd3",
   "metadata": {},
   "outputs": [
    {
     "data": {
      "text/html": [
       "<div>\n",
       "<style scoped>\n",
       "    .dataframe tbody tr th:only-of-type {\n",
       "        vertical-align: middle;\n",
       "    }\n",
       "\n",
       "    .dataframe tbody tr th {\n",
       "        vertical-align: top;\n",
       "    }\n",
       "\n",
       "    .dataframe thead th {\n",
       "        text-align: right;\n",
       "    }\n",
       "</style>\n",
       "<table border=\"1\" class=\"dataframe\">\n",
       "  <thead>\n",
       "    <tr style=\"text-align: right;\">\n",
       "      <th></th>\n",
       "      <th>predicted sales</th>\n",
       "      <th>actual Sales</th>\n",
       "    </tr>\n",
       "  </thead>\n",
       "  <tbody>\n",
       "    <tr>\n",
       "      <th>0</th>\n",
       "      <td>11.0</td>\n",
       "      <td>11.3</td>\n",
       "    </tr>\n",
       "    <tr>\n",
       "      <th>1</th>\n",
       "      <td>10.0</td>\n",
       "      <td>8.4</td>\n",
       "    </tr>\n",
       "    <tr>\n",
       "      <th>2</th>\n",
       "      <td>9.0</td>\n",
       "      <td>12.0</td>\n",
       "    </tr>\n",
       "    <tr>\n",
       "      <th>3</th>\n",
       "      <td>26.0</td>\n",
       "      <td>25.4</td>\n",
       "    </tr>\n",
       "    <tr>\n",
       "      <th>4</th>\n",
       "      <td>17.0</td>\n",
       "      <td>16.7</td>\n",
       "    </tr>\n",
       "  </tbody>\n",
       "</table>\n",
       "</div>"
      ],
      "text/plain": [
       "   predicted sales  actual Sales\n",
       "0             11.0          11.3\n",
       "1             10.0           8.4\n",
       "2              9.0          12.0\n",
       "3             26.0          25.4\n",
       "4             17.0          16.7"
      ]
     },
     "execution_count": 20,
     "metadata": {},
     "output_type": "execute_result"
    }
   ],
   "source": [
    "# comparing predicted with actual sales\n",
    "col = ['predicted sales', 'actual Sales']\n",
    "result = pd.DataFrame(list(zip(dtr_ypred, y_test)), columns=col)\n",
    "result.head()"
   ]
  },
  {
   "cell_type": "markdown",
   "id": "60b0b8ba",
   "metadata": {},
   "source": [
    "RANDOM FOREST REGRESSOR:"
   ]
  },
  {
   "cell_type": "code",
   "execution_count": 21,
   "id": "83a901c5",
   "metadata": {},
   "outputs": [
    {
     "name": "stdout",
     "output_type": "stream",
     "text": [
      "Random Forest Regression MSE : 1.82391620000001\n",
      "Random Forest Regression RMSE : 1.3505244166619166\n",
      "Random Forest Regression R2_Score : 0.9433007769300651\n"
     ]
    }
   ],
   "source": [
    "from sklearn.ensemble import RandomForestRegressor\n",
    "rfr_model = RandomForestRegressor()\n",
    "rfr_model.fit(x_train, y_train)\n",
    "rfr_y_pred = rfr_model.predict(x_test)\n",
    "rfr_ypred = np.round(rfr_y_pred , 0)\n",
    "rfr_MSE = mean_squared_error(y_test, rfr_y_pred)\n",
    "rfr_RMSE = sqrt(rfr_MSE)\n",
    "rfr_score = r2_score(y_test, rfr_y_pred)\n",
    "print(\"Random Forest Regression MSE :\",rfr_MSE)\n",
    "print(\"Random Forest Regression RMSE :\",rfr_RMSE)\n",
    "print(\"Random Forest Regression R2_Score :\", rfr_score)"
   ]
  },
  {
   "cell_type": "code",
   "execution_count": 22,
   "id": "312a3c90",
   "metadata": {},
   "outputs": [
    {
     "data": {
      "text/html": [
       "<div>\n",
       "<style scoped>\n",
       "    .dataframe tbody tr th:only-of-type {\n",
       "        vertical-align: middle;\n",
       "    }\n",
       "\n",
       "    .dataframe tbody tr th {\n",
       "        vertical-align: top;\n",
       "    }\n",
       "\n",
       "    .dataframe thead th {\n",
       "        text-align: right;\n",
       "    }\n",
       "</style>\n",
       "<table border=\"1\" class=\"dataframe\">\n",
       "  <thead>\n",
       "    <tr style=\"text-align: right;\">\n",
       "      <th></th>\n",
       "      <th>predicted sales</th>\n",
       "      <th>actual Sales</th>\n",
       "    </tr>\n",
       "  </thead>\n",
       "  <tbody>\n",
       "    <tr>\n",
       "      <th>0</th>\n",
       "      <td>11.0</td>\n",
       "      <td>11.3</td>\n",
       "    </tr>\n",
       "    <tr>\n",
       "      <th>1</th>\n",
       "      <td>9.0</td>\n",
       "      <td>8.4</td>\n",
       "    </tr>\n",
       "    <tr>\n",
       "      <th>2</th>\n",
       "      <td>11.0</td>\n",
       "      <td>12.0</td>\n",
       "    </tr>\n",
       "    <tr>\n",
       "      <th>3</th>\n",
       "      <td>26.0</td>\n",
       "      <td>25.4</td>\n",
       "    </tr>\n",
       "    <tr>\n",
       "      <th>4</th>\n",
       "      <td>17.0</td>\n",
       "      <td>16.7</td>\n",
       "    </tr>\n",
       "  </tbody>\n",
       "</table>\n",
       "</div>"
      ],
      "text/plain": [
       "   predicted sales  actual Sales\n",
       "0             11.0          11.3\n",
       "1              9.0           8.4\n",
       "2             11.0          12.0\n",
       "3             26.0          25.4\n",
       "4             17.0          16.7"
      ]
     },
     "execution_count": 22,
     "metadata": {},
     "output_type": "execute_result"
    }
   ],
   "source": [
    "# comparing predicted with actual rating\n",
    "col = ['predicted sales', 'actual Sales']\n",
    "result = pd.DataFrame(list(zip(rfr_ypred, y_test)), columns=col)\n",
    "result.head()"
   ]
  },
  {
   "cell_type": "code",
   "execution_count": 23,
   "id": "a15cd930",
   "metadata": {},
   "outputs": [],
   "source": [
    "from numpy import set_printoptions \n",
    "from sklearn.preprocessing import MinMaxScaler, StandardScaler, Normalizer, QuantileTransformer\n",
    "dfArr = df.values\n",
    "labels = df.columns\n",
    "col = labels[:3]\n",
    "x = dfArr[:, :3]\n",
    "y = dfArr[:, -1]"
   ]
  },
  {
   "cell_type": "code",
   "execution_count": 24,
   "id": "0b81a461",
   "metadata": {},
   "outputs": [
    {
     "data": {
      "text/html": [
       "<div>\n",
       "<style scoped>\n",
       "    .dataframe tbody tr th:only-of-type {\n",
       "        vertical-align: middle;\n",
       "    }\n",
       "\n",
       "    .dataframe tbody tr th {\n",
       "        vertical-align: top;\n",
       "    }\n",
       "\n",
       "    .dataframe thead th {\n",
       "        text-align: right;\n",
       "    }\n",
       "</style>\n",
       "<table border=\"1\" class=\"dataframe\">\n",
       "  <thead>\n",
       "    <tr style=\"text-align: right;\">\n",
       "      <th></th>\n",
       "      <th>TV</th>\n",
       "      <th>Radio</th>\n",
       "      <th>Newspaper</th>\n",
       "      <th>Sales</th>\n",
       "    </tr>\n",
       "  </thead>\n",
       "  <tbody>\n",
       "    <tr>\n",
       "      <th>0</th>\n",
       "      <td>0.969852</td>\n",
       "      <td>0.981522</td>\n",
       "      <td>1.778945</td>\n",
       "      <td>22.1</td>\n",
       "    </tr>\n",
       "    <tr>\n",
       "      <th>1</th>\n",
       "      <td>-1.197376</td>\n",
       "      <td>1.082808</td>\n",
       "      <td>0.669579</td>\n",
       "      <td>10.4</td>\n",
       "    </tr>\n",
       "    <tr>\n",
       "      <th>2</th>\n",
       "      <td>-1.516155</td>\n",
       "      <td>1.528463</td>\n",
       "      <td>1.783549</td>\n",
       "      <td>12.0</td>\n",
       "    </tr>\n",
       "    <tr>\n",
       "      <th>3</th>\n",
       "      <td>0.052050</td>\n",
       "      <td>1.217855</td>\n",
       "      <td>1.286405</td>\n",
       "      <td>16.5</td>\n",
       "    </tr>\n",
       "    <tr>\n",
       "      <th>4</th>\n",
       "      <td>0.394182</td>\n",
       "      <td>-0.841614</td>\n",
       "      <td>1.281802</td>\n",
       "      <td>17.9</td>\n",
       "    </tr>\n",
       "  </tbody>\n",
       "</table>\n",
       "</div>"
      ],
      "text/plain": [
       "         TV     Radio  Newspaper  Sales\n",
       "0  0.969852  0.981522   1.778945   22.1\n",
       "1 -1.197376  1.082808   0.669579   10.4\n",
       "2 -1.516155  1.528463   1.783549   12.0\n",
       "3  0.052050  1.217855   1.286405   16.5\n",
       "4  0.394182 -0.841614   1.281802   17.9"
      ]
     },
     "execution_count": 24,
     "metadata": {},
     "output_type": "execute_result"
    }
   ],
   "source": [
    "# scaling the training sets\n",
    "sts = StandardScaler()\n",
    "standized_x = sts.fit_transform(x)\n",
    "set_printoptions(precision=4)\n",
    "\n",
    "\n",
    "standized_df = pd.DataFrame(standized_x, columns = col)\n",
    "standized_df['Sales'] = y\n",
    "standized_df.head()"
   ]
  },
  {
   "cell_type": "code",
   "execution_count": 25,
   "id": "fc2f8b93",
   "metadata": {},
   "outputs": [
    {
     "name": "stdout",
     "output_type": "stream",
     "text": [
      "X_train : (190, 3)\n",
      "X_test : (10, 3)\n",
      "Y_train : (190,)\n",
      "Y_test: (10,)\n"
     ]
    }
   ],
   "source": [
    "# split the data into train_set and test_set\n",
    "from sklearn.model_selection import train_test_split, cross_val_score, KFold\n",
    "X1 = standized_df.drop(['Sales'], axis = 1).values\n",
    "Y1 = standized_df['Sales'].values\n",
    "x_train, x_test, y_train, y_test = train_test_split(X1, Y1, test_size = 0.05, random_state= 42)\n",
    "print(\"X_train :\", x_train.shape)\n",
    "print(\"X_test :\", x_test.shape)\n",
    "print(\"Y_train :\", y_train.shape)\n",
    "print(\"Y_test:\", y_test.shape)"
   ]
  },
  {
   "cell_type": "code",
   "execution_count": 26,
   "id": "6f0af1dd",
   "metadata": {},
   "outputs": [
    {
     "data": {
      "image/png": "[encoded data removed]",
      "text/plain": [
       "<Figure size 720x576 with 4 Axes>"
      ]
     },
     "metadata": {
      "needs_background": "light"
     },
     "output_type": "display_data"
    }
   ],
   "source": [
    "# check for normal distribution of data.\n",
    "standized_df.plot(kind='density', subplots=True, layout=(2,2), sharex=False)\n",
    "plt.gcf().set_size_inches(10,8)\n",
    "plt.show()"
   ]
  },
  {
   "cell_type": "code",
   "execution_count": 27,
   "id": "920175e9",
   "metadata": {},
   "outputs": [
    {
     "name": "stdout",
     "output_type": "stream",
     "text": [
      "Random Forest Regression MSE : 0.8770422999999997\n",
      "Random Forest Regression RMSE : 0.9365053657080666\n",
      "Random Forest Regression R2_Score : 0.9729461571206476\n"
     ]
    }
   ],
   "source": [
    "from sklearn.ensemble import RandomForestRegressor\n",
    "rfr_model = RandomForestRegressor()\n",
    "rfr_model.fit(x_train, y_train)\n",
    "rfr_y_pred = rfr_model.predict(x_test)\n",
    "rfr_ypred = np.round(rfr_y_pred , 0)\n",
    "rfr_MSE = mean_squared_error(y_test, rfr_y_pred)\n",
    "rfr_RMSE = sqrt(rfr_MSE)\n",
    "rfr_score = r2_score(y_test, rfr_y_pred)\n",
    "print(\"Random Forest Regression MSE :\",rfr_MSE)\n",
    "print(\"Random Forest Regression RMSE :\",rfr_RMSE)\n",
    "print(\"Random Forest Regression R2_Score :\", rfr_score)"
   ]
  },
  {
   "cell_type": "code",
   "execution_count": 28,
   "id": "25a7548d",
   "metadata": {},
   "outputs": [
    {
     "data": {
      "text/html": [
       "<div>\n",
       "<style scoped>\n",
       "    .dataframe tbody tr th:only-of-type {\n",
       "        vertical-align: middle;\n",
       "    }\n",
       "\n",
       "    .dataframe tbody tr th {\n",
       "        vertical-align: top;\n",
       "    }\n",
       "\n",
       "    .dataframe thead th {\n",
       "        text-align: right;\n",
       "    }\n",
       "</style>\n",
       "<table border=\"1\" class=\"dataframe\">\n",
       "  <thead>\n",
       "    <tr style=\"text-align: right;\">\n",
       "      <th></th>\n",
       "      <th>predicted sales</th>\n",
       "      <th>actual Sales</th>\n",
       "    </tr>\n",
       "  </thead>\n",
       "  <tbody>\n",
       "    <tr>\n",
       "      <th>0</th>\n",
       "      <td>18.0</td>\n",
       "      <td>16.9</td>\n",
       "    </tr>\n",
       "    <tr>\n",
       "      <th>1</th>\n",
       "      <td>23.0</td>\n",
       "      <td>22.4</td>\n",
       "    </tr>\n",
       "    <tr>\n",
       "      <th>2</th>\n",
       "      <td>20.0</td>\n",
       "      <td>21.4</td>\n",
       "    </tr>\n",
       "    <tr>\n",
       "      <th>3</th>\n",
       "      <td>7.0</td>\n",
       "      <td>7.3</td>\n",
       "    </tr>\n",
       "    <tr>\n",
       "      <th>4</th>\n",
       "      <td>23.0</td>\n",
       "      <td>24.7</td>\n",
       "    </tr>\n",
       "    <tr>\n",
       "      <th>5</th>\n",
       "      <td>13.0</td>\n",
       "      <td>12.6</td>\n",
       "    </tr>\n",
       "    <tr>\n",
       "      <th>6</th>\n",
       "      <td>22.0</td>\n",
       "      <td>22.3</td>\n",
       "    </tr>\n",
       "    <tr>\n",
       "      <th>7</th>\n",
       "      <td>9.0</td>\n",
       "      <td>8.4</td>\n",
       "    </tr>\n",
       "    <tr>\n",
       "      <th>8</th>\n",
       "      <td>17.0</td>\n",
       "      <td>16.5</td>\n",
       "    </tr>\n",
       "    <tr>\n",
       "      <th>9</th>\n",
       "      <td>17.0</td>\n",
       "      <td>16.1</td>\n",
       "    </tr>\n",
       "  </tbody>\n",
       "</table>\n",
       "</div>"
      ],
      "text/plain": [
       "   predicted sales  actual Sales\n",
       "0             18.0          16.9\n",
       "1             23.0          22.4\n",
       "2             20.0          21.4\n",
       "3              7.0           7.3\n",
       "4             23.0          24.7\n",
       "5             13.0          12.6\n",
       "6             22.0          22.3\n",
       "7              9.0           8.4\n",
       "8             17.0          16.5\n",
       "9             17.0          16.1"
      ]
     },
     "execution_count": 28,
     "metadata": {},
     "output_type": "execute_result"
    }
   ],
   "source": [
    "# comparing predicted with actual Sales\n",
    "col = ['predicted sales', 'actual Sales']\n",
    "result = pd.DataFrame(list(zip(rfr_ypred, y_test)), columns=col)\n",
    "result.head(50)"
   ]
  },
  {
   "cell_type": "code",
   "execution_count": 29,
   "id": "9b3d149b",
   "metadata": {},
   "outputs": [
    {
     "name": "stdout",
     "output_type": "stream",
     "text": [
      "Linear Regression MSE : 2.4155728852505995\n",
      "Linear Regression RMSE : 1.5542113386700662\n",
      "Linear Regression R2_Score : 0.9254875970050773\n"
     ]
    }
   ],
   "source": [
    "# model building\n",
    "from sklearn.linear_model import LinearRegression\n",
    "linear_reg_model = LinearRegression()\n",
    "linear_reg_model.fit(x_train, y_train)\n",
    "reg_y_pred = linear_reg_model.predict(x_test)\n",
    "reg_ypred = np.round(reg_y_pred , 0)\n",
    "# evaluate the model\n",
    "from sklearn.metrics import r2_score, mean_squared_error, confusion_matrix\n",
    "from numpy import sqrt\n",
    "reg_MSE = mean_squared_error(y_test, reg_y_pred)\n",
    "reg_RMSE = sqrt(reg_MSE)\n",
    "reg_score = r2_score(y_test, reg_y_pred)\n",
    "print(\"Linear Regression MSE :\",reg_MSE)\n",
    "print(\"Linear Regression RMSE :\",reg_RMSE)\n",
    "print(\"Linear Regression R2_Score :\", reg_score) "
   ]
  },
  {
   "cell_type": "code",
   "execution_count": 30,
   "id": "418cbd19",
   "metadata": {},
   "outputs": [
    {
     "name": "stdout",
     "output_type": "stream",
     "text": [
      "Decision Tree Regression MSE : 1.3820000000000003\n",
      "Decision Tree Regression RMSE : 1.1755849607748479\n",
      "Decision Tree Regression R2_Score : 0.9573698887051798\n"
     ]
    }
   ],
   "source": [
    "from sklearn.tree import DecisionTreeRegressor\n",
    "dtr_model = DecisionTreeRegressor(random_state = 0)\n",
    "dtr_model.fit(x_train, y_train)\n",
    "dtr_y_pred = dtr_model.predict(x_test)\n",
    "dtr_ypred = np.round(dtr_y_pred , 0)\n",
    "dtr_MSE = mean_squared_error(y_test, dtr_y_pred)\n",
    "dtr_RMSE = sqrt(dtr_MSE)\n",
    "dtr_score = r2_score(y_test, dtr_y_pred)\n",
    "print(\"Decision Tree Regression MSE :\",dtr_MSE)\n",
    "print(\"Decision Tree Regression RMSE :\",dtr_RMSE)\n",
    "print(\"Decision Tree Regression R2_Score :\", dtr_score)"
   ]
  },
  {
   "cell_type": "code",
   "execution_count": 31,
   "id": "9a604dbd",
   "metadata": {},
   "outputs": [
    {
     "data": {
      "text/html": [
       "<div>\n",
       "<style scoped>\n",
       "    .dataframe tbody tr th:only-of-type {\n",
       "        vertical-align: middle;\n",
       "    }\n",
       "\n",
       "    .dataframe tbody tr th {\n",
       "        vertical-align: top;\n",
       "    }\n",
       "\n",
       "    .dataframe thead th {\n",
       "        text-align: right;\n",
       "    }\n",
       "</style>\n",
       "<table border=\"1\" class=\"dataframe\">\n",
       "  <thead>\n",
       "    <tr style=\"text-align: right;\">\n",
       "      <th></th>\n",
       "      <th>TV</th>\n",
       "      <th>Radio</th>\n",
       "      <th>Newspaper</th>\n",
       "      <th>Sales</th>\n",
       "    </tr>\n",
       "  </thead>\n",
       "  <tbody>\n",
       "    <tr>\n",
       "      <th>0</th>\n",
       "      <td>0.775786</td>\n",
       "      <td>0.762097</td>\n",
       "      <td>0.605981</td>\n",
       "      <td>22.1</td>\n",
       "    </tr>\n",
       "    <tr>\n",
       "      <th>1</th>\n",
       "      <td>0.148123</td>\n",
       "      <td>0.792339</td>\n",
       "      <td>0.394019</td>\n",
       "      <td>10.4</td>\n",
       "    </tr>\n",
       "    <tr>\n",
       "      <th>2</th>\n",
       "      <td>0.055800</td>\n",
       "      <td>0.925403</td>\n",
       "      <td>0.606860</td>\n",
       "      <td>12.0</td>\n",
       "    </tr>\n",
       "    <tr>\n",
       "      <th>3</th>\n",
       "      <td>0.509976</td>\n",
       "      <td>0.832661</td>\n",
       "      <td>0.511873</td>\n",
       "      <td>16.5</td>\n",
       "    </tr>\n",
       "    <tr>\n",
       "      <th>4</th>\n",
       "      <td>0.609063</td>\n",
       "      <td>0.217742</td>\n",
       "      <td>0.510994</td>\n",
       "      <td>17.9</td>\n",
       "    </tr>\n",
       "  </tbody>\n",
       "</table>\n",
       "</div>"
      ],
      "text/plain": [
       "         TV     Radio  Newspaper  Sales\n",
       "0  0.775786  0.762097   0.605981   22.1\n",
       "1  0.148123  0.792339   0.394019   10.4\n",
       "2  0.055800  0.925403   0.606860   12.0\n",
       "3  0.509976  0.832661   0.511873   16.5\n",
       "4  0.609063  0.217742   0.510994   17.9"
      ]
     },
     "execution_count": 31,
     "metadata": {},
     "output_type": "execute_result"
    }
   ],
   "source": [
    "# scaling the training sets\n",
    "mm = MinMaxScaler()\n",
    "mm_x = mm.fit_transform(standized_x)\n",
    "set_printoptions(precision=4)\n",
    "col2 = labels[:3]\n",
    "\n",
    "mm_df = pd.DataFrame(mm_x, columns = col2)\n",
    "mm_df['Sales'] = y\n",
    "mm_df.head()"
   ]
  },
  {
   "cell_type": "code",
   "execution_count": 32,
   "id": "d055caed",
   "metadata": {},
   "outputs": [
    {
     "data": {
      "text/html": [
       "<div>\n",
       "<style scoped>\n",
       "    .dataframe tbody tr th:only-of-type {\n",
       "        vertical-align: middle;\n",
       "    }\n",
       "\n",
       "    .dataframe tbody tr th {\n",
       "        vertical-align: top;\n",
       "    }\n",
       "\n",
       "    .dataframe thead th {\n",
       "        text-align: right;\n",
       "    }\n",
       "</style>\n",
       "<table border=\"1\" class=\"dataframe\">\n",
       "  <thead>\n",
       "    <tr style=\"text-align: right;\">\n",
       "      <th></th>\n",
       "      <th>TV</th>\n",
       "      <th>Radio</th>\n",
       "      <th>Newspaper</th>\n",
       "      <th>Sales</th>\n",
       "    </tr>\n",
       "  </thead>\n",
       "  <tbody>\n",
       "    <tr>\n",
       "      <th>0</th>\n",
       "      <td>0.871891</td>\n",
       "      <td>0.779611</td>\n",
       "      <td>1.555492</td>\n",
       "      <td>22.1</td>\n",
       "    </tr>\n",
       "    <tr>\n",
       "      <th>1</th>\n",
       "      <td>-0.963820</td>\n",
       "      <td>0.876818</td>\n",
       "      <td>0.689739</td>\n",
       "      <td>10.4</td>\n",
       "    </tr>\n",
       "    <tr>\n",
       "      <th>2</th>\n",
       "      <td>-1.549706</td>\n",
       "      <td>1.528952</td>\n",
       "      <td>1.558697</td>\n",
       "      <td>12.0</td>\n",
       "    </tr>\n",
       "    <tr>\n",
       "      <th>3</th>\n",
       "      <td>0.014928</td>\n",
       "      <td>1.013880</td>\n",
       "      <td>1.195720</td>\n",
       "      <td>16.5</td>\n",
       "    </tr>\n",
       "    <tr>\n",
       "      <th>4</th>\n",
       "      <td>0.211277</td>\n",
       "      <td>-0.612813</td>\n",
       "      <td>1.182023</td>\n",
       "      <td>17.9</td>\n",
       "    </tr>\n",
       "  </tbody>\n",
       "</table>\n",
       "</div>"
      ],
      "text/plain": [
       "         TV     Radio  Newspaper  Sales\n",
       "0  0.871891  0.779611   1.555492   22.1\n",
       "1 -0.963820  0.876818   0.689739   10.4\n",
       "2 -1.549706  1.528952   1.558697   12.0\n",
       "3  0.014928  1.013880   1.195720   16.5\n",
       "4  0.211277 -0.612813   1.182023   17.9"
      ]
     },
     "execution_count": 32,
     "metadata": {},
     "output_type": "execute_result"
    }
   ],
   "source": [
    "# scaling the training sets\n",
    "qt =  QuantileTransformer(n_quantiles=100, output_distribution='normal')\n",
    "qt_x = qt.fit_transform(mm_x)\n",
    "set_printoptions(precision=4)\n",
    "col1 = labels[:3]\n",
    "\n",
    "qt_df = pd.DataFrame(qt_x, columns = col1)\n",
    "qt_df['Sales'] = y\n",
    "qt_df.head()"
   ]
  },
  {
   "cell_type": "code",
   "execution_count": 242,
   "id": "7e3f63c0",
   "metadata": {},
   "outputs": [
    {
     "data": {
      "image/png": "[encoded data removed]",
      "text/plain": [
       "<Figure size 360x360 with 3 Axes>"
      ]
     },
     "metadata": {
      "needs_background": "light"
     },
     "output_type": "display_data"
    }
   ],
   "source": [
    "# check for normal distribution of data.\n",
    "qt_df.drop(['Sales'], axis = 1).plot(kind='density', subplots=True, layout=(3,1), sharex=False)\n",
    "plt.gcf().set_size_inches(5,5)\n",
    "plt.show()"
   ]
  },
  {
   "cell_type": "code",
   "execution_count": 243,
   "id": "bd8ebd5d",
   "metadata": {},
   "outputs": [
    {
     "name": "stdout",
     "output_type": "stream",
     "text": [
      "X_train : (190, 3)\n",
      "X_test : (10, 3)\n",
      "Y_train : (190,)\n",
      "Y_test: (10,)\n"
     ]
    }
   ],
   "source": [
    "# split the data into train_set and test_set\n",
    "from sklearn.model_selection import train_test_split, cross_val_score, KFold\n",
    "X0 = qt_df.drop(['Sales'], axis = 1).values\n",
    "Y0 = qt_df['Sales'].values\n",
    "x_train, x_test, y_train, y_test = train_test_split(X0, Y0, test_size = 0.05, random_state=0)\n",
    "print(\"X_train :\", x_train.shape)\n",
    "print(\"X_test :\", x_test.shape)\n",
    "print(\"Y_train :\", y_train.shape)\n",
    "print(\"Y_test:\", y_test.shape)"
   ]
  },
  {
   "cell_type": "raw",
   "id": "eb898a3d",
   "metadata": {},
   "source": [
    "from sklearn.ensemble import RandomForestRegressor\n",
    "rfr_model = RandomForestRegressor()\n",
    "rfr_model.fit(x_train, y_train)\n",
    "rfr_y_pred = rfr_model.predict(x_test)\n",
    "rfr_ypred = np.round(rfr_y_pred , 0)\n",
    "rfr_MSE = mean_squared_error(y_test, rfr_y_pred)\n",
    "rfr_RMSE = sqrt(rfr_MSE)\n",
    "rfr_score = r2_score(y_test, rfr_y_pred)\n",
    "print(\"Random Forest Regression MSE :\",rfr_MSE)\n",
    "print(\"Random Forest Regression RMSE :\",rfr_RMSE)\n",
    "print(\"Random Forest Regression R2_Score :\", rfr_score)"
   ]
  },
  {
   "cell_type": "code",
   "execution_count": 244,
   "id": "2ebeff6a",
   "metadata": {},
   "outputs": [
    {
     "name": "stdout",
     "output_type": "stream",
     "text": [
      "Linear Regression MSE : 3.5348509491563087\n",
      "Linear Regression RMSE : 1.8801199294609663\n",
      "Linear Regression R2_Score : 0.8812617038855661\n"
     ]
    }
   ],
   "source": [
    "# model building\n",
    "from sklearn.linear_model import LinearRegression\n",
    "linear_reg_model = LinearRegression()\n",
    "linear_reg_model.fit(x_train, y_train)\n",
    "reg_y_pred = linear_reg_model.predict(x_test)\n",
    "reg_ypred = np.round(reg_y_pred , 0)\n",
    "# evaluate the model\n",
    "from sklearn.metrics import r2_score, mean_squared_error, confusion_matrix\n",
    "from numpy import sqrt\n",
    "reg_MSE = mean_squared_error(y_test, reg_y_pred)\n",
    "reg_RMSE = sqrt(reg_MSE)\n",
    "reg_score = r2_score(y_test, reg_y_pred)\n",
    "print(\"Linear Regression MSE :\",reg_MSE)\n",
    "print(\"Linear Regression RMSE :\",reg_RMSE)\n",
    "print(\"Linear Regression R2_Score :\", reg_score) \n",
    "\n"
   ]
  },
  {
   "cell_type": "code",
   "execution_count": 245,
   "id": "474c7af4",
   "metadata": {},
   "outputs": [
    {
     "name": "stdout",
     "output_type": "stream",
     "text": [
      "Decision Tree Regression MSE : 1.0789999999999993\n",
      "Decision Tree Regression RMSE : 1.038749247893831\n",
      "Decision Tree Regression R2_Score : 0.9637555802634187\n"
     ]
    }
   ],
   "source": [
    "from sklearn.tree import DecisionTreeRegressor\n",
    "dtr_model = DecisionTreeRegressor(random_state = 0)\n",
    "dtr_model.fit(x_train, y_train)\n",
    "dtr_y_pred = dtr_model.predict(x_test)\n",
    "dtr_ypred = np.round(dtr_y_pred , 0)\n",
    "dtr_MSE = mean_squared_error(y_test, dtr_y_pred)\n",
    "dtr_RMSE = sqrt(dtr_MSE)\n",
    "dtr_score = r2_score(y_test, dtr_y_pred)\n",
    "print(\"Decision Tree Regression MSE :\",dtr_MSE)\n",
    "print(\"Decision Tree Regression RMSE :\",dtr_RMSE)\n",
    "print(\"Decision Tree Regression R2_Score :\", dtr_score)"
   ]
  },
  {
   "cell_type": "code",
   "execution_count": 246,
   "id": "fee1f41c",
   "metadata": {},
   "outputs": [
    {
     "name": "stdout",
     "output_type": "stream",
     "text": [
      "Support Vector Regression MSE : 4.870951206861692\n",
      "Support Vector Regression RMSE : 2.207023155035237\n",
      "Support Vector Regression R2_Score : 0.8812617038855661\n"
     ]
    }
   ],
   "source": [
    "from sklearn.svm import SVR\n",
    "svr_model = SVR(kernel='rbf')\n",
    "svr_model.fit(x_train, y_train)\n",
    "svm_y_pred = svr_model.predict(x_test)\n",
    "svm_ypred = np.round(svm_y_pred , 0)\n",
    "svm_MSE = mean_squared_error(y_test, svm_y_pred)\n",
    "svm_RMSE = sqrt(svm_MSE)\n",
    "svm_score = r2_score(y_test, svm_y_pred)\n",
    "print(\"Support Vector Regression MSE :\",svm_MSE)\n",
    "print(\"Support Vector Regression RMSE :\",svm_RMSE)\n",
    "print(\"Support Vector Regression R2_Score :\", reg_score)"
   ]
  },
  {
   "cell_type": "code",
   "execution_count": 247,
   "id": "b8501812",
   "metadata": {},
   "outputs": [
    {
     "name": "stdout",
     "output_type": "stream",
     "text": [
      "Random Forest Regression MSE : 0.3584247173179954\n",
      "Random Forest Regression RMSE : 0.5986858252188667\n",
      "Random Forest Regression R2_Score : 0.9879602447651168\n"
     ]
    }
   ],
   "source": [
    "# improving the performance of RF. \n",
    "from sklearn.ensemble import RandomForestRegressor\n",
    "rfr_model = RandomForestRegressor(n_estimators=71, oob_score= 'TRUE', n_jobs = 1, random_state = 2)\n",
    "rfr_model.fit(x_train, y_train)\n",
    "rfr_y_pred = rfr_model.predict(x_test)\n",
    "rfr_ypred = np.round(rfr_y_pred , 1)\n",
    "rfr_MSE = mean_squared_error(y_test, rfr_y_pred)\n",
    "rfr_RMSE = sqrt(rfr_MSE)\n",
    "rfr_score = r2_score(y_test, rfr_y_pred)\n",
    "print(\"Random Forest Regression MSE :\",rfr_MSE)\n",
    "print(\"Random Forest Regression RMSE :\",rfr_RMSE)\n",
    "print(\"Random Forest Regression R2_Score :\", rfr_score)"
   ]
  },
  {
   "cell_type": "code",
   "execution_count": 248,
   "id": "2dd19b3d",
   "metadata": {},
   "outputs": [
    {
     "data": {
      "text/html": [
       "<div>\n",
       "<style scoped>\n",
       "    .dataframe tbody tr th:only-of-type {\n",
       "        vertical-align: middle;\n",
       "    }\n",
       "\n",
       "    .dataframe tbody tr th {\n",
       "        vertical-align: top;\n",
       "    }\n",
       "\n",
       "    .dataframe thead th {\n",
       "        text-align: right;\n",
       "    }\n",
       "</style>\n",
       "<table border=\"1\" class=\"dataframe\">\n",
       "  <thead>\n",
       "    <tr style=\"text-align: right;\">\n",
       "      <th></th>\n",
       "      <th>predicted sales</th>\n",
       "      <th>actual Sales</th>\n",
       "    </tr>\n",
       "  </thead>\n",
       "  <tbody>\n",
       "    <tr>\n",
       "      <th>0</th>\n",
       "      <td>11.2</td>\n",
       "      <td>11.3</td>\n",
       "    </tr>\n",
       "    <tr>\n",
       "      <th>1</th>\n",
       "      <td>9.4</td>\n",
       "      <td>8.4</td>\n",
       "    </tr>\n",
       "    <tr>\n",
       "      <th>2</th>\n",
       "      <td>11.4</td>\n",
       "      <td>12.0</td>\n",
       "    </tr>\n",
       "    <tr>\n",
       "      <th>3</th>\n",
       "      <td>25.4</td>\n",
       "      <td>25.4</td>\n",
       "    </tr>\n",
       "    <tr>\n",
       "      <th>4</th>\n",
       "      <td>17.0</td>\n",
       "      <td>16.7</td>\n",
       "    </tr>\n",
       "    <tr>\n",
       "      <th>5</th>\n",
       "      <td>9.8</td>\n",
       "      <td>8.7</td>\n",
       "    </tr>\n",
       "    <tr>\n",
       "      <th>6</th>\n",
       "      <td>7.5</td>\n",
       "      <td>7.2</td>\n",
       "    </tr>\n",
       "    <tr>\n",
       "      <th>7</th>\n",
       "      <td>17.8</td>\n",
       "      <td>18.2</td>\n",
       "    </tr>\n",
       "    <tr>\n",
       "      <th>8</th>\n",
       "      <td>8.9</td>\n",
       "      <td>9.2</td>\n",
       "    </tr>\n",
       "    <tr>\n",
       "      <th>9</th>\n",
       "      <td>17.4</td>\n",
       "      <td>16.6</td>\n",
       "    </tr>\n",
       "  </tbody>\n",
       "</table>\n",
       "</div>"
      ],
      "text/plain": [
       "   predicted sales  actual Sales\n",
       "0             11.2          11.3\n",
       "1              9.4           8.4\n",
       "2             11.4          12.0\n",
       "3             25.4          25.4\n",
       "4             17.0          16.7\n",
       "5              9.8           8.7\n",
       "6              7.5           7.2\n",
       "7             17.8          18.2\n",
       "8              8.9           9.2\n",
       "9             17.4          16.6"
      ]
     },
     "execution_count": 248,
     "metadata": {},
     "output_type": "execute_result"
    }
   ],
   "source": [
    "# comparing predicted with actual sales\n",
    "col = ['predicted sales', 'actual Sales']\n",
    "result = pd.DataFrame(list(zip(rfr_ypred, y_test)), columns=col)\n",
    "result"
   ]
  },
  {
   "cell_type": "code",
   "execution_count": 44,
   "id": "377bdf1e",
   "metadata": {},
   "outputs": [
    {
     "data": {
      "text/html": [
       "<div>\n",
       "<style scoped>\n",
       "    .dataframe tbody tr th:only-of-type {\n",
       "        vertical-align: middle;\n",
       "    }\n",
       "\n",
       "    .dataframe tbody tr th {\n",
       "        vertical-align: top;\n",
       "    }\n",
       "\n",
       "    .dataframe thead th {\n",
       "        text-align: right;\n",
       "    }\n",
       "</style>\n",
       "<table border=\"1\" class=\"dataframe\">\n",
       "  <thead>\n",
       "    <tr style=\"text-align: right;\">\n",
       "      <th></th>\n",
       "      <th>Mean Square Error</th>\n",
       "      <th>Root Mean Square Error</th>\n",
       "      <th>R2_Score</th>\n",
       "    </tr>\n",
       "  </thead>\n",
       "  <tbody>\n",
       "    <tr>\n",
       "      <th>RFR</th>\n",
       "      <td>0.358425</td>\n",
       "      <td>0.598686</td>\n",
       "      <td>0.987960</td>\n",
       "    </tr>\n",
       "    <tr>\n",
       "      <th>DTR</th>\n",
       "      <td>1.079000</td>\n",
       "      <td>1.038749</td>\n",
       "      <td>0.963756</td>\n",
       "    </tr>\n",
       "    <tr>\n",
       "      <th>LR</th>\n",
       "      <td>3.534851</td>\n",
       "      <td>1.880120</td>\n",
       "      <td>0.881262</td>\n",
       "    </tr>\n",
       "    <tr>\n",
       "      <th>SVM</th>\n",
       "      <td>4.870951</td>\n",
       "      <td>2.207023</td>\n",
       "      <td>0.836381</td>\n",
       "    </tr>\n",
       "  </tbody>\n",
       "</table>\n",
       "</div>"
      ],
      "text/plain": [
       "     Mean Square Error  Root Mean Square Error  R2_Score\n",
       "RFR           0.358425                0.598686  0.987960\n",
       "DTR           1.079000                1.038749  0.963756\n",
       "LR            3.534851                1.880120  0.881262\n",
       "SVM           4.870951                2.207023  0.836381"
      ]
     },
     "execution_count": 44,
     "metadata": {},
     "output_type": "execute_result"
    }
   ],
   "source": [
    "metrics_name =  ['LR' ,'SVM', 'DTR', 'RFR']\n",
    "idx = ['Mean Square Error', 'Root Mean Square Error','R2_Score']\n",
    "mse_list = [reg_MSE, svm_MSE, dtr_MSE, rfr_MSE]\n",
    "rmse_list =  [reg_RMSE, svm_RMSE, dtr_RMSE, rfr_RMSE]\n",
    "r2_score_list =   [reg_score, svm_score, dtr_score, rfr_score]\n",
    "df_metrics = pd.DataFrame([ mse_list,rmse_list,r2_score_list], columns =metrics_name, index=idx).T\n",
    "df_metrics.sort_values(by='R2_Score', ascending=False)"
   ]
  }
 ],
 "metadata": {
  "kernelspec": {
   "display_name": "Python 3 (ipykernel)",
   "language": "python",
   "name": "python3"
  },
  "language_info": {
   "codemirror_mode": {
    "name": "ipython",
    "version": 3
   },
   "file_extension": ".py",
   "mimetype": "text/x-python",
   "name": "python",
   "nbconvert_exporter": "python",
   "pygments_lexer": "ipython3",
   "version": "3.9.7"
  }
 },
 "nbformat": 4,
 "nbformat_minor": 5
}
